{
 "cells": [
  {
   "cell_type": "markdown",
   "metadata": {},
   "source": [
    "## Ejercicio 2<br>\n",
    "El número 197, es un número primo circular, porque todas las rotaciones de sus dígitos: 197, 971, y 719, también son primos.\n",
    "Hay trece números primos circulares menores a 100: 2, 3, 5, 7, 11, 13, 17, 31, 37, 71, 73, 79, y 97.\n",
    "¿Cuántos números primos circulares están por debajo del millón?\n"
   ]
  },
  {
   "cell_type": "code",
   "execution_count": null,
   "metadata": {},
   "outputs": [],
   "source": [
    "# [2, 3, 5, 7, 11, 13, 17, 31, 37, 71, 73, 79, 97]"
   ]
  },
  {
   "cell_type": "code",
   "execution_count": 3,
   "metadata": {},
   "outputs": [],
   "source": [
    "import itertools"
   ]
  },
  {
   "cell_type": "code",
   "execution_count": 4,
   "metadata": {},
   "outputs": [],
   "source": [
    "def is_prime(a):\n",
    "    if a < 2:\n",
    "        return False\n",
    "    elif a!=2 and a % 2 == 0:\n",
    "        return False\n",
    "    else:\n",
    "        return all (a % i for i in range(3, int(a**0.5)+1))"
   ]
  },
  {
   "cell_type": "code",
   "execution_count": 6,
   "metadata": {},
   "outputs": [],
   "source": [
    "def gen_permutation(n):\n",
    "    l = [i for i in str(n)]\n",
    "    return set(itertools.permutations(l))"
   ]
  },
  {
   "cell_type": "code",
   "execution_count": 9,
   "metadata": {},
   "outputs": [],
   "source": [
    "primes = {2:True, 3:True, 5:True, 7:True, 11:True, 13:True, 17:True, 31:True, 37:True, 71:True, 73:True, 79:True, 97:True}\n",
    "circulares = [2, 3, 5, 7, 11, 13, 17, 31, 37, 71, 73, 79, 97]\n",
    "for n in range(101,1_000_000):\n",
    "    permutations = gen_permutation(n)\n",
    "    add_circular = True\n",
    "    for p in permutations:\n",
    "        num = int(''.join(p))\n",
    "        if primes.get(num):\n",
    "            pass\n",
    "        elif is_prime(num):\n",
    "            primes[num] = True\n",
    "        else:\n",
    "            add_circular = False\n",
    "            break\n",
    "    if add_circular:\n",
    "        circulares.append(n)"
   ]
  },
  {
   "cell_type": "code",
   "execution_count": 12,
   "metadata": {},
   "outputs": [
    {
     "data": {
      "text/plain": [
       "[2,\n",
       " 3,\n",
       " 5,\n",
       " 7,\n",
       " 11,\n",
       " 13,\n",
       " 17,\n",
       " 31,\n",
       " 37,\n",
       " 71,\n",
       " 73,\n",
       " 79,\n",
       " 97,\n",
       " 113,\n",
       " 131,\n",
       " 199,\n",
       " 311,\n",
       " 337,\n",
       " 373,\n",
       " 733,\n",
       " 919,\n",
       " 991]"
      ]
     },
     "execution_count": 12,
     "metadata": {},
     "output_type": "execute_result"
    }
   ],
   "source": [
    "circulares"
   ]
  },
  {
   "cell_type": "code",
   "execution_count": null,
   "metadata": {},
   "outputs": [],
   "source": []
  }
 ],
 "metadata": {
  "kernelspec": {
   "display_name": "Python 3",
   "language": "python",
   "name": "python3"
  },
  "language_info": {
   "codemirror_mode": {
    "name": "ipython",
    "version": 3
   },
   "file_extension": ".py",
   "mimetype": "text/x-python",
   "name": "python",
   "nbconvert_exporter": "python",
   "pygments_lexer": "ipython3",
   "version": "3.6.5"
  }
 },
 "nbformat": 4,
 "nbformat_minor": 2
}
