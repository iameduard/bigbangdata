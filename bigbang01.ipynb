{
 "cells": [
  {
   "cell_type": "markdown",
   "metadata": {},
   "source": [
    "## Ejercicio 1 <br>\n",
    "Se define la siguiente secuencia iterativa para un conjunto de enteros positivos: \n",
    "n → n/2 (n es par)\n",
    "n → 3n + 1 (n es impar)\n",
    "Usando la regla anterior y empezando con 13, se genera la siguiente secuencia:\n",
    "13 → 40 → 20 → 10 → 5 → 16 → 8 → 4 → 2 → 1\n",
    "Se puede ver que esta secuencia (que empieza en 13 y termina en 1) contiene 10 términos. Aunque aún no se ha probado (el problema de Collatz), se cree que, sin importar el número inicial, todas las secuencias terminan en 1.\n",
    "¿Con cuál número inicial, menor de un millón, se produce la secuencia más larga?\n"
   ]
  },
  {
   "cell_type": "code",
   "execution_count": 1,
   "metadata": {},
   "outputs": [],
   "source": [
    "ns = range(1_000_000)"
   ]
  },
  {
   "cell_type": "code",
   "execution_count": 25,
   "metadata": {},
   "outputs": [],
   "source": [
    "def calculate_(n):\n",
    "    seq = [n]\n",
    "    while(n>1):\n",
    "        n = n/2.0 if n%2==0 else 3*n+1\n",
    "        seq.append(n)\n",
    "    return seq"
   ]
  },
  {
   "cell_type": "code",
   "execution_count": 26,
   "metadata": {},
   "outputs": [],
   "source": [
    "sequence = {'n':None, 'max':1}\n",
    "\n",
    "for n in ns:\n",
    "    l = len(calculate_(n))\n",
    "    if l > sequence['max']:\n",
    "        sequence['n']= n\n",
    "        sequence['max'] = l"
   ]
  },
  {
   "cell_type": "code",
   "execution_count": 27,
   "metadata": {},
   "outputs": [
    {
     "data": {
      "text/plain": [
       "{'n': 837799, 'max': 525}"
      ]
     },
     "execution_count": 27,
     "metadata": {},
     "output_type": "execute_result"
    }
   ],
   "source": [
    "sequence"
   ]
  },
  {
   "cell_type": "code",
   "execution_count": null,
   "metadata": {},
   "outputs": [],
   "source": []
  }
 ],
 "metadata": {
  "kernelspec": {
   "display_name": "Python 3",
   "language": "python",
   "name": "python3"
  },
  "language_info": {
   "codemirror_mode": {
    "name": "ipython",
    "version": 3
   },
   "file_extension": ".py",
   "mimetype": "text/x-python",
   "name": "python",
   "nbconvert_exporter": "python",
   "pygments_lexer": "ipython3",
   "version": "3.6.5"
  }
 },
 "nbformat": 4,
 "nbformat_minor": 2
}
